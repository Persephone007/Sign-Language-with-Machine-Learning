{
 "cells": [
  {
   "cell_type": "code",
   "execution_count": 1,
   "metadata": {},
   "outputs": [
    {
     "name": "stderr",
     "output_type": "stream",
     "text": [
      "Using TensorFlow backend.\n"
     ]
    }
   ],
   "source": [
    "from keras.preprocessing.image import load_img\n",
    "from keras.preprocessing.image import img_to_array\n",
    "from keras.preprocessing.image import array_to_img\n",
    "import requests\n",
    "from io import BytesIO\n",
    "import io\n",
    "import csv\n",
    "from urllib.request import urlopen\n",
    "from bs4 import BeautifulSoup\n",
    "import pandas as pd\n",
    "import numpy as np\n",
    "from IPython.display import Image, SVG\n",
    "import matplotlib.pyplot as plt"
   ]
  },
  {
   "cell_type": "code",
   "execution_count": null,
   "metadata": {},
   "outputs": [],
   "source": []
  },
  {
   "cell_type": "code",
   "execution_count": 2,
   "metadata": {},
   "outputs": [],
   "source": [
    "def fetch_input(url):\n",
    "    response = requests.get(url)\n",
    "#     img = load_img(BytesIO(response.content), target_size = (30,30),color_mode = \"grayscale\")\n",
    "    img = load_img(BytesIO(response.content), target_size = (800,800))\n",
    "    return img_to_array(img)\n",
    "    #return img"
   ]
  },
  {
   "cell_type": "code",
   "execution_count": 3,
   "metadata": {
    "scrolled": true
   },
   "outputs": [],
   "source": [
    "img_array_filter_input = fetch_input('https://sathyabucket1.s3.us-east-2.amazonaws.com/A-Z+Cropped/A1C/scene00001.jpg')\n",
    "\n",
    "# So to make an imaging algorithm, like anything else in programming, really understand what is being asked...\n",
    "# this is one of the hardest things you will ever learn in data science, once you break it down far enough\n",
    "# you can actually begin coding\n",
    "\n",
    "# what is the problem? need to make an edge detection algorithm, we need an algorithm that is race neutral\n",
    "# what is edge detection? where every edge in an image is detected, it should look like an outline\n",
    "# what is an edge? a place where adjacent pixels are sufficiently different\n",
    "# what is adjacent? pixels are next to each other\n",
    "# what is sufficiently different? when you cross a threshold or maximum tolerance\n",
    "# how do you calculate if a pixel goes beyond the tolerance? subtract the colors and check the difference\n",
    "# what happens after you find a different pixel? you can mark the current pixel as black\n",
    "# what if all adjacent pixels are the same? you keep the pixel as white\n",
    "# what should the output look like? a black and white outline of the shape\n",
    "# where does this output pixel go? into an image\n",
    "# is the outline race neutral? yes\n",
    "# can we resize it for AI training later? yes\n"
   ]
  },
  {
   "cell_type": "code",
   "execution_count": 4,
   "metadata": {},
   "outputs": [
    {
     "name": "stdout",
     "output_type": "stream",
     "text": [
      "800 800 3\n"
     ]
    }
   ],
   "source": [
    "# lets first make sure we have enough data\n",
    "# an 800 x 800 image is a good place to start\n",
    "# we should use color to enhance the ability to detect an edge as well\n",
    "horizontal_len = len(img_array_filter_input)\n",
    "vertical_len = len(img_array_filter_input[0])\n",
    "inner_pixel_len = len(img_array_filter_input[0][0])\n",
    "print(horizontal_len, vertical_len, inner_pixel_len)"
   ]
  },
  {
   "cell_type": "code",
   "execution_count": 5,
   "metadata": {},
   "outputs": [
    {
     "name": "stdout",
     "output_type": "stream",
     "text": [
      "20 [204. 191. 175.] [207. 194. 178.]\n"
     ]
    }
   ],
   "source": [
    "# this will be the maximum color difference for a single pixel\n",
    "threshold_difference = 20 # in photoshop, this is also called tolerance while selecting similar pixels\n",
    "print(threshold_difference, img_array_filter_input[0][0], img_array_filter_input[0][1])"
   ]
  },
  {
   "cell_type": "code",
   "execution_count": 6,
   "metadata": {},
   "outputs": [],
   "source": [
    "# looking at the first two pixels in the image, they should be the same\n",
    "# however to test our edge detection algorithm I will use predefined pixels for now\n",
    "# pay close attention to the values chosen, you will realize that I chose each one particularly\n",
    "original_pixel = [204., 191., 175.]\n",
    "test_pixels = [[204., 191., 175.], [14., 191., 175.], [0., 0., 0.], [204., 191., 0.], [204., 255., 175.], [205., 192., 176.], [224., 192., 176.]]\n",
    "predicted = [True, False, False, False, False, True, True]\n"
   ]
  },
  {
   "cell_type": "code",
   "execution_count": 7,
   "metadata": {},
   "outputs": [
    {
     "name": "stdout",
     "output_type": "stream",
     "text": [
      "[204.0, 191.0, 175.0]\n",
      "1\n"
     ]
    }
   ],
   "source": [
    "# sanity check\n",
    "for i in range(0, 1):\n",
    "    print(test_pixels[i])\n",
    "    print(abs(-1))"
   ]
  },
  {
   "cell_type": "code",
   "execution_count": 8,
   "metadata": {},
   "outputs": [
    {
     "name": "stdout",
     "output_type": "stream",
     "text": [
      "0.0\n",
      "0.0\n",
      "0.0\n",
      "190.0\n",
      "0.0\n",
      "0.0\n",
      "204.0\n",
      "191.0\n",
      "175.0\n",
      "0.0\n",
      "0.0\n",
      "175.0\n",
      "0.0\n",
      "-64.0\n",
      "0.0\n",
      "-1.0\n",
      "-1.0\n",
      "-1.0\n",
      "-20.0\n",
      "-1.0\n",
      "-1.0\n"
     ]
    }
   ],
   "source": [
    "# check if we can do the difference\n",
    "for i in range(0, len(test_pixels)):\n",
    "    po = original_pixel # pixel original\n",
    "    pt = test_pixels[i] # test pixel\n",
    "    for p in range(0, inner_pixel_len):\n",
    "        print(po[p] - pt[p])"
   ]
  },
  {
   "cell_type": "code",
   "execution_count": 9,
   "metadata": {},
   "outputs": [
    {
     "name": "stdout",
     "output_type": "stream",
     "text": [
      "[True, False, False, False, False, True, True]\n",
      "[True, False, False, False, False, True, True]\n"
     ]
    }
   ],
   "source": [
    "# now we actually do the math\n",
    "test_out = []\n",
    "for i in range(0, len(test_pixels)):\n",
    "    po = original_pixel # pixel original\n",
    "    pt = test_pixels[i] # test pixel\n",
    "    out = True # default is the pixel is the same\n",
    "    for p in range(0, inner_pixel_len):\n",
    "        if abs(po[p] - pt[p]) > threshold_difference:\n",
    "            out = False # there is a difference\n",
    "            break\n",
    "    test_out.append(out)\n",
    "print(test_out)\n",
    "print(predicted)"
   ]
  },
  {
   "cell_type": "code",
   "execution_count": 10,
   "metadata": {},
   "outputs": [],
   "source": [
    "# now that we have valid pixel difference tester we must figure out how to find neighbor pixels\n",
    "# imagine we are the top left edge of an image... what are the neighbor pixels?\n",
    "# 1 2 3\n",
    "# 4 5 6\n",
    "# 7 8 9\n",
    "\n",
    "# the answer is 2,4,5... but how do we figure this out with an array of arrays?\n",
    "# [0, 0] [1, 0] [2, 0]\n",
    "# [0, 1] [1, 1] [2, 1]\n",
    "# [0, 2] [1, 2] [2, 2]\n",
    "\n",
    "# the answer is [1, 0], [0, 1], [1, 1] ... so if i = 0, then [i + 1, i], [i, i + 1], [i + 1, i + 1]\n",
    "# why use i? because we will need this to do calculations throughout the image\n",
    "# it looks good, but we will need to make sure it works throughout\n",
    "# so each pixel coordinate must be at least 0 or greater AND less than the size of the image (length or width)\n",
    "# for now lets just expand this to work for \"middle pixel of i,j\"\n",
    "\n",
    "# our middle pixel will be [i, j]\n",
    "# [i-1, j-1] [i, j-1] [i+1,j-1]\n",
    "# [i-1, j]   [i, j]   [i+1,j]\n",
    "# [i-1, j+1] [i, j+1] [i+1,j+1]\n",
    "\n",
    "# notice the symmetry here, we just need to figure out if the pixel is still within our image bounds\n"
   ]
  },
  {
   "cell_type": "code",
   "execution_count": 11,
   "metadata": {},
   "outputs": [
    {
     "name": "stdout",
     "output_type": "stream",
     "text": [
      "1\n",
      "2\n",
      "3\n"
     ]
    }
   ],
   "source": [
    "# sanity check\n",
    "d = img_array_filter_input # d will stand for image Data\n",
    "count = 0\n",
    "count_max = 3\n",
    "for i in range(0, horizontal_len):\n",
    "    for j in range(0, vertical_len):\n",
    "        count += 1\n",
    "        if count > count_max:\n",
    "            break\n",
    "        print(count)\n",
    "        "
   ]
  },
  {
   "cell_type": "code",
   "execution_count": 12,
   "metadata": {},
   "outputs": [
    {
     "name": "stdout",
     "output_type": "stream",
     "text": [
      "My pixel is (0,0)\n",
      "My neighbors for (0,0): [[-1, -1], [-1, 0], [-1, 1], [0, -1], [0, 0], [0, 1], [1, -1], [1, 0], [1, 1]]\n",
      "My pixel is (0,1)\n",
      "My neighbors for (0,1): [[-1, 0], [-1, 1], [-1, 2], [0, 0], [0, 1], [0, 2], [1, 0], [1, 1], [1, 2]]\n",
      "My pixel is (0,2)\n",
      "My neighbors for (0,2): [[-1, 1], [-1, 2], [-1, 3], [0, 1], [0, 2], [0, 3], [1, 1], [1, 2], [1, 3]]\n"
     ]
    }
   ],
   "source": [
    "# lets do the first 3 pixels\n",
    "d = img_array_filter_input # d will stand for image Data\n",
    "count = 0\n",
    "count_max = 3\n",
    "for i in range(0, horizontal_len):\n",
    "    for j in range(0, vertical_len):\n",
    "        count += 1\n",
    "        if count > count_max:\n",
    "            break\n",
    "        print(f\"My pixel is ({i},{j})\")\n",
    "        neighbors = []\n",
    "        for k in range(-1, 2):\n",
    "            for m in range(-1, 2):\n",
    "                neighbors.append([i+k, j+m])\n",
    "        print(f\"My neighbors for ({i},{j}):\", neighbors)"
   ]
  },
  {
   "cell_type": "code",
   "execution_count": 13,
   "metadata": {},
   "outputs": [
    {
     "name": "stdout",
     "output_type": "stream",
     "text": [
      "My pixel is (0,0)\n",
      "My neighbors for (0,0): [[0, 1], [1, 0], [1, 1]]\n",
      "My pixel is (0,1)\n",
      "My neighbors for (0,1): [[0, 0], [0, 2], [1, 0], [1, 1], [1, 2]]\n",
      "My pixel is (0,2)\n",
      "My neighbors for (0,2): [[0, 1], [0, 3], [1, 1], [1, 2], [1, 3]]\n"
     ]
    }
   ],
   "source": [
    "# some of the neighbors should not be negative... we should also make sure we do not go over the size of the image as well...\n",
    "# also neighbors should not include the original pixel...\n",
    "\n",
    "# lets do the first 3 pixels\n",
    "d = img_array_filter_input # d will stand for image Data\n",
    "count = 0\n",
    "count_max = 3\n",
    "for i in range(0, horizontal_len):\n",
    "    for j in range(0, vertical_len):\n",
    "        count += 1\n",
    "        if count > count_max:\n",
    "            break\n",
    "        print(f\"My pixel is ({i},{j})\")\n",
    "        neighbors = []\n",
    "        for k in range(-1, 2):\n",
    "            for m in range(-1, 2):\n",
    "                if i+k >= 0 and i+k < horizontal_len and j+m >= 0 and j+m < vertical_len and (0 != k or 0 != m):\n",
    "                    neighbors.append([i+k, j+m])\n",
    "        print(f\"My neighbors for ({i},{j}):\", neighbors)"
   ]
  },
  {
   "cell_type": "code",
   "execution_count": 14,
   "metadata": {},
   "outputs": [
    {
     "name": "stdout",
     "output_type": "stream",
     "text": [
      "True\n",
      "True\n",
      "True\n"
     ]
    }
   ],
   "source": [
    "# now that we have a pixel neighbor algorithm and an edge detection algorithm... lets actually put it together\n",
    "\n",
    "# lets do the first 3 pixels\n",
    "d = img_array_filter_input # d will stand for image Data\n",
    "count = 0\n",
    "count_max = 3\n",
    "for i in range(0, horizontal_len):\n",
    "    for j in range(0, vertical_len):\n",
    "        # i,j is my original pixel\n",
    "        count += 1\n",
    "        if count > count_max:\n",
    "            break\n",
    "        \n",
    "        neighbors = []\n",
    "        for k in range(-1, 2):\n",
    "            for m in range(-1, 2):\n",
    "                if i+k >= 0 and i+k < horizontal_len and j+m >= 0 and j+m < vertical_len and (0 != k or 0 != m):\n",
    "                    neighbors.append([i+k, j+m])\n",
    "        \n",
    "        po = d[i,j] #pixel original\n",
    "        out = True # default is the pixel is the same\n",
    "        for n in neighbors:\n",
    "            pt = d[n[0], n[1]] # test pixel\n",
    "            for c in range(0, inner_pixel_len):\n",
    "                if abs(po[c] - pt[c]) > threshold_difference:\n",
    "                    out = False # there is a difference\n",
    "                    break\n",
    "        print(out)"
   ]
  },
  {
   "cell_type": "code",
   "execution_count": 15,
   "metadata": {},
   "outputs": [
    {
     "name": "stdout",
     "output_type": "stream",
     "text": [
      "[[[255.0], [255.0], [255.0], [255.0], [255.0], [255.0], [255.0], [255.0], [255.0], [255.0], [255.0], [255.0], [255.0], [255.0], [255.0], [255.0], [255.0], [255.0], [255.0], [255.0], [255.0], [255.0], [255.0], [255.0], [255.0], [255.0], [255.0], [255.0], [255.0], [255.0], [255.0], [255.0], [255.0], [255.0], [255.0], [255.0], [255.0], [255.0], [255.0], [255.0], [255.0], [255.0], [255.0], [255.0], [255.0], [255.0], [255.0], [255.0], [255.0], [255.0], [255.0], [255.0], [255.0], [255.0], [255.0], [255.0], [255.0], [255.0], [255.0], [255.0], [255.0], [255.0], [255.0], [255.0], [255.0], [255.0], [255.0], [255.0], [255.0], [255.0], [255.0], [255.0], [255.0], [255.0], [255.0], [255.0], [255.0], [255.0], [255.0], [255.0], [255.0], [255.0], [255.0], [255.0], [255.0], [255.0], [255.0], [255.0], [255.0], [255.0], [255.0], [255.0], [255.0], [255.0], [255.0], [255.0], [255.0], [255.0], [255.0], [255.0], [255.0], [255.0], [255.0], [255.0], [255.0], [255.0], [255.0], [255.0], [255.0], [255.0], [255.0], [255.0], [255.0], [255.0], [255.0], [255.0], [255.0], [255.0], [255.0], [255.0], [255.0], [255.0], [255.0], [255.0], [255.0], [255.0], [255.0], [255.0], [255.0], [255.0], [255.0], [255.0], [255.0], [255.0], [255.0], [255.0], [255.0], [255.0], [255.0], [255.0], [255.0], [255.0], [255.0], [255.0], [255.0], [255.0], [255.0], [255.0], [255.0], [255.0], [255.0], [255.0], [255.0], [255.0], [255.0], [255.0], [255.0], [255.0], [255.0], [255.0], [255.0], [255.0], [255.0], [255.0], [255.0], [255.0], [255.0], [255.0], [255.0], [255.0], [255.0], [255.0], [255.0], [255.0], [255.0], [255.0], [255.0], [255.0], [255.0], [255.0], [255.0], [255.0], [255.0], [255.0], [255.0], [255.0], [255.0], [255.0], [255.0], [255.0], [255.0], [255.0], [255.0], [255.0], [255.0], [255.0], [255.0], [255.0], [255.0], [255.0], [255.0], [255.0], [255.0], [255.0], [255.0], [255.0], [255.0], [255.0], [255.0], [255.0], [255.0], [255.0], [255.0], [255.0], [255.0], [255.0], [255.0], [255.0], [255.0], [255.0], [255.0], [255.0], [255.0], [255.0], [255.0], [255.0], [255.0], [255.0], [255.0], [255.0], [255.0], [255.0], [255.0], [255.0], [255.0], [255.0], [255.0], [255.0], [255.0], [255.0], [255.0], [255.0], [255.0], [255.0], [255.0], [255.0], [255.0], [255.0], [255.0], [255.0], [255.0], [255.0], [255.0], [255.0], [255.0], [255.0], [255.0], [255.0], [255.0], [255.0], [255.0], [255.0], [255.0], [255.0], [255.0], [255.0], [255.0], [255.0], [255.0], [255.0], [255.0], [255.0], [255.0], [255.0], [255.0], [255.0], [255.0], [255.0], [255.0], [255.0], [255.0], [255.0], [255.0], [255.0], [255.0], [255.0], [255.0], [255.0], [255.0], [255.0], [255.0], [255.0], [255.0], [255.0], [255.0], [255.0], [255.0], [255.0], [255.0], [255.0], [255.0], [255.0], [255.0], [255.0], [255.0], [255.0], [255.0], [255.0], [255.0], [255.0], [255.0], [255.0], [255.0], [255.0], [255.0], [255.0], [255.0], [255.0], [255.0], [255.0], [255.0], [255.0], [255.0], [255.0], [255.0], [255.0], [255.0], [255.0], [255.0], [255.0], [255.0], [255.0], [255.0], [255.0], [255.0], [255.0], [255.0], [255.0], [255.0], [255.0], [255.0], [255.0], [255.0], [255.0], [255.0], [255.0], [255.0], [255.0], [255.0], [255.0], [255.0], [255.0], [255.0], [255.0], [255.0], [255.0], [255.0], [255.0], [255.0], [255.0], [255.0], [255.0], [255.0], [255.0], [255.0], [255.0], [255.0], [255.0], [255.0], [255.0], [255.0], [255.0], [255.0], [255.0], [255.0], [255.0], [255.0], [255.0], [255.0], [255.0], [255.0], [255.0], [255.0], [255.0], [255.0], [255.0], [255.0], [255.0], [255.0], [255.0], [255.0], [255.0], [255.0], [255.0], [255.0], [255.0], [255.0], [255.0], [255.0], [255.0], [255.0], [255.0], [255.0], [255.0], [255.0], [255.0], [255.0], [255.0], [255.0], [255.0], [255.0], [255.0], [255.0], [255.0], [255.0], [255.0], [255.0], [255.0], [255.0], [255.0], [255.0], [255.0], [255.0], [255.0], [255.0], [255.0], [255.0], [255.0], [255.0], [255.0], [255.0], [255.0], [255.0], [255.0], [255.0], [255.0], [255.0], [255.0], [255.0], [255.0], [255.0], [255.0], [255.0], [255.0], [255.0], [255.0], [255.0], [255.0], [255.0], [255.0], [255.0], [255.0], [255.0], [255.0], [255.0], [255.0], [255.0], [255.0], [255.0], [255.0], [255.0], [255.0], [255.0], [255.0], [255.0], [255.0], [255.0], [255.0], [255.0], [255.0], [255.0], [255.0], [255.0], [255.0], [255.0], [255.0], [255.0], [255.0], [255.0], [255.0], [255.0], [255.0], [255.0], [255.0], [255.0], [255.0], [255.0], [255.0], [255.0], [255.0], [255.0], [255.0], [255.0], [255.0], [255.0], [255.0], [255.0], [255.0], [255.0], [255.0], [255.0], [255.0], [255.0], [255.0], [255.0], [255.0], [255.0], [255.0], [255.0], [255.0], [255.0], [255.0], [255.0], [255.0], [255.0], [255.0], [255.0], [255.0], [255.0], [255.0], [255.0], [255.0], [255.0], [255.0], [255.0], [255.0], [255.0], [255.0], [255.0], [255.0], [255.0], [255.0], [255.0], [255.0], [255.0], [255.0], [255.0], [255.0], [255.0], [255.0], [255.0], [255.0], [255.0], [255.0], [255.0], [255.0], [255.0], [255.0], [255.0], [255.0], [255.0], [255.0], [255.0], [255.0], [255.0], [255.0], [255.0], [255.0], [255.0], [255.0], [255.0], [255.0], [255.0], [255.0], [255.0], [255.0], [255.0], [255.0], [255.0], [255.0], [255.0], [255.0], [255.0], [255.0], [255.0], [255.0], [255.0], [255.0], [255.0], [255.0], [255.0], [255.0], [255.0], [255.0], [255.0], [255.0], [255.0], [255.0], [255.0], [255.0], [255.0], [255.0], [255.0], [255.0], [255.0], [255.0], [255.0], [255.0], [255.0], [255.0], [255.0], [255.0], [255.0], [255.0], [255.0], [255.0], [255.0], [255.0], [255.0], [255.0], [255.0], [255.0], [255.0], [255.0], [255.0], [255.0], [255.0], [255.0], [255.0], [255.0], [255.0], [255.0], [255.0], [255.0], [255.0], [255.0], [255.0], [255.0], [255.0], [255.0], [255.0], [255.0], [255.0], [255.0], [255.0], [255.0], [255.0], [255.0], [255.0], [255.0], [255.0], [255.0], [255.0], [255.0], [255.0], [255.0], [255.0], [255.0], [255.0], [255.0], [255.0], [255.0], [255.0], [255.0], [255.0], [255.0], [255.0], [255.0], [255.0], [255.0], [255.0], [255.0], [255.0], [255.0], [255.0], [255.0], [255.0], [255.0], [255.0], [255.0], [255.0], [255.0], [255.0], [255.0], [255.0], [255.0], [255.0], [255.0], [255.0], [255.0], [255.0], [255.0], [255.0], [255.0], [255.0], [255.0], [255.0], [255.0], [255.0], [255.0], [255.0], [255.0], [255.0], [255.0], [255.0], [255.0], [255.0], [255.0], [255.0], [255.0], [255.0], [255.0], [255.0], [255.0], [255.0], [255.0], [255.0], [255.0], [255.0], [255.0], [255.0], [255.0], [255.0], [255.0], [255.0], [255.0], [255.0], [255.0], [255.0], [255.0], [255.0], [255.0], [255.0], [255.0], [255.0], [255.0], [255.0], [255.0], [255.0], [255.0], [255.0], [255.0], [255.0], [255.0], [255.0], [255.0], [255.0], [255.0], [255.0], [255.0], [255.0], [255.0], [255.0], [255.0], [255.0], [255.0], [255.0], [255.0], [255.0], [255.0], [255.0], [255.0], [255.0], [255.0], [255.0], [255.0], [255.0], [255.0], [255.0], [255.0], [255.0], [255.0], [255.0], [255.0], [255.0], [255.0], [255.0], [255.0], [255.0], [255.0], [255.0], [255.0], [255.0], [255.0], [255.0], [255.0], [255.0], [255.0], [255.0], [255.0], [255.0], [255.0], [255.0], [255.0], [255.0], [255.0], [255.0], [255.0], [255.0], [255.0], [255.0], [255.0], [255.0], [255.0], [255.0], [255.0], [255.0], [255.0], [255.0], [255.0]], [[255.0], [255.0], [255.0], [255.0], [255.0], [255.0], [255.0], [255.0], [255.0], [255.0], [255.0], [255.0], [255.0], [255.0], [255.0], [255.0], [255.0], [255.0], [255.0], [255.0], [255.0], [255.0], [255.0], [255.0], [255.0], [255.0], [255.0], [255.0], [255.0], [255.0], [255.0], [255.0], [255.0], [255.0], [255.0], [255.0], [255.0], [255.0], [255.0], [255.0], [255.0], [255.0], [255.0], [255.0], [255.0], [255.0], [255.0], [255.0], [255.0], [255.0], [255.0], [255.0], [255.0], [255.0], [255.0], [255.0], [255.0], [255.0], [255.0], [255.0], [255.0], [255.0], [255.0], [255.0], [255.0], [255.0], [255.0], [255.0], [255.0], [255.0], [255.0], [255.0], [255.0], [255.0], [255.0], [255.0], [255.0], [255.0], [255.0], [255.0], [255.0], [255.0], [255.0], [255.0], [255.0], [255.0], [255.0], [255.0], [255.0], [255.0], [255.0], [255.0], [255.0], [255.0], [255.0], [255.0], [255.0], [255.0], [255.0], [255.0], [255.0], [255.0], [255.0], [255.0], [255.0], [255.0], [255.0], [255.0], [255.0], [255.0], [255.0], [255.0], [255.0], [255.0], [255.0], [255.0], [255.0], [255.0], [255.0], [255.0], [255.0], [255.0], [255.0], [255.0], [255.0], [255.0], [255.0], [255.0], [255.0], [255.0], [255.0], [255.0], [255.0], [255.0], [255.0], [255.0], [255.0], [255.0], [255.0], [255.0], [255.0], [255.0], [255.0], [255.0], [255.0], [255.0], [255.0], [255.0], [255.0], [255.0], [255.0], [255.0], [255.0], [255.0], [255.0], [255.0], [255.0], [255.0], [255.0], [255.0], [255.0], [255.0], [255.0], [255.0], [255.0], [255.0], [255.0], [255.0], [255.0], [255.0], [255.0], [255.0], [255.0], [255.0], [255.0], [255.0], [255.0], [255.0], [255.0], [255.0], [255.0], [255.0], [255.0], [255.0], [255.0], [255.0], [255.0], [255.0], [255.0], [255.0], [255.0], [255.0], [255.0], [255.0], [255.0], [255.0], [255.0], [255.0], [255.0], [255.0]]]\n"
     ]
    }
   ],
   "source": [
    "# now that we are relatively sure that this works... lets do the part of the image and output to an image map in grayscale\n",
    "d = img_array_filter_input # d will stand for image Data\n",
    "edge_img = []\n",
    "count = 0\n",
    "count_max = 1000\n",
    "for i in range(0, horizontal_len):\n",
    "    for j in range(0, vertical_len):\n",
    "        # i,j is my original pixel\n",
    "        \n",
    "        count += 1\n",
    "        if count > count_max:\n",
    "            break\n",
    "        \n",
    "        neighbors = []\n",
    "        for k in range(-1, 2):\n",
    "            for m in range(-1, 2):\n",
    "                if i+k >= 0 and i+k < horizontal_len and j+m >= 0 and j+m < vertical_len and (0 != k or 0 != m):\n",
    "                    neighbors.append([i+k, j+m])\n",
    "        \n",
    "        po = d[i,j] #pixel original\n",
    "        out = True # default is the pixel is the same\n",
    "        for n in neighbors:\n",
    "            pt = d[n[0], n[1]] # test pixel\n",
    "            for c in range(0, inner_pixel_len):\n",
    "                if abs(po[c] - pt[c]) > threshold_difference:\n",
    "                    out = False # there is a difference\n",
    "                    break\n",
    "        if i >= len(edge_img):\n",
    "            edge_img.append([])\n",
    "        if j >= len(edge_img[i]):\n",
    "            edge_img[i].append([])\n",
    "        if out:\n",
    "            edge_img[i][j].append(255.)\n",
    "        else:\n",
    "            edge_img[i][j].append(0.)\n",
    "print(edge_img)"
   ]
  },
  {
   "cell_type": "code",
   "execution_count": 16,
   "metadata": {},
   "outputs": [],
   "source": [
    "# lets try it on the whole image and output to plt\n",
    "d = img_array_filter_input # d will stand for image Data\n",
    "edge_img = []\n",
    "\n",
    "for i in range(0, horizontal_len):\n",
    "    for j in range(0, vertical_len):\n",
    "        # i,j is my original pixel\n",
    "        \n",
    "        \n",
    "        \n",
    "        neighbors = []\n",
    "        for k in range(-1, 2):\n",
    "            for m in range(-1, 2):\n",
    "                if i+k >= 0 and i+k < horizontal_len and j+m >= 0 and j+m < vertical_len and (0 != k or 0 != m):\n",
    "                    neighbors.append([i+k, j+m])\n",
    "        \n",
    "        po = d[i,j] #pixel original\n",
    "        out = True # default is the pixel is the same\n",
    "        for n in neighbors:\n",
    "            pt = d[n[0], n[1]] # test pixel\n",
    "            for c in range(0, inner_pixel_len):\n",
    "                if abs(po[c] - pt[c]) > threshold_difference:\n",
    "                    out = False # there is a difference\n",
    "                    break\n",
    "        if i >= len(edge_img):\n",
    "            edge_img.append([])\n",
    "        if j >= len(edge_img[i]):\n",
    "            edge_img[i].append(0.)\n",
    "        if out:\n",
    "            edge_img[i][j] = 255.\n",
    "        else:\n",
    "            edge_img[i][j] = 0.\n",
    "\n"
   ]
  },
  {
   "cell_type": "code",
   "execution_count": 17,
   "metadata": {},
   "outputs": [
    {
     "data": {
      "text/plain": [
       "<matplotlib.image.AxesImage at 0x1c9ab8fec08>"
      ]
     },
     "execution_count": 17,
     "metadata": {},
     "output_type": "execute_result"
    },
    {
     "data": {
      "image/png": "[encoded data removed]",
      "text/plain": [
       "<Figure size 432x288 with 1 Axes>"
      ]
     },
     "metadata": {
      "needs_background": "light"
     },
     "output_type": "display_data"
    }
   ],
   "source": [
    "plt.imshow(edge_img)"
   ]
  },
  {
   "cell_type": "code",
   "execution_count": 18,
   "metadata": {},
   "outputs": [],
   "source": [
    "plt.imsave(\"edge20.jpg\", edge_img)"
   ]
  },
  {
   "cell_type": "code",
   "execution_count": 19,
   "metadata": {},
   "outputs": [],
   "source": [
    "# refine the algorithm using threshold\n",
    "# threshold_difference = 20 # not enough detail\n",
    "# threshold_difference = 15 # really close to ideal\n",
    "threshold_difference = 14 # ideal?\n",
    "# threshold_difference = 10 # lots of noise\n",
    "d = img_array_filter_input # d will stand for image Data\n",
    "edge_img = []\n",
    "\n",
    "for i in range(0, horizontal_len):\n",
    "    for j in range(0, vertical_len):\n",
    "        # i,j is my original pixel\n",
    "        \n",
    "        \n",
    "        \n",
    "        neighbors = []\n",
    "        for k in range(-1, 2):\n",
    "            for m in range(-1, 2):\n",
    "                if i+k >= 0 and i+k < horizontal_len and j+m >= 0 and j+m < vertical_len and (0 != k or 0 != m):\n",
    "                    neighbors.append([i+k, j+m])\n",
    "        \n",
    "        po = d[i,j] #pixel original\n",
    "        out = True # default is the pixel is the same\n",
    "        for n in neighbors:\n",
    "            pt = d[n[0], n[1]] # test pixel\n",
    "            for c in range(0, inner_pixel_len):\n",
    "                if abs(po[c] - pt[c]) > threshold_difference:\n",
    "                    out = False # there is a difference\n",
    "                    break\n",
    "        if i >= len(edge_img):\n",
    "            edge_img.append([])\n",
    "        if j >= len(edge_img[i]):\n",
    "            edge_img[i].append(0.)\n",
    "        if out:\n",
    "            edge_img[i][j] = 255.\n",
    "        else:\n",
    "            edge_img[i][j] = 0.\n",
    "plt.imsave(f\"edge-{threshold_difference}.jpg\", edge_img)"
   ]
  },
  {
   "cell_type": "code",
   "execution_count": 20,
   "metadata": {},
   "outputs": [],
   "source": [
    "# you will want to resize this edge_img to a smaller image size for your algorithm, \n",
    "# you will need a slightly higher resolution because\n",
    "# of how this edge algorithm works\n",
    "\n",
    "# good luck!!!\n",
    "\n",
    "# additional food for thought\n",
    "# 1. How do we remove noise?\n",
    "# 2. How do we detect only the hand pixels?\n",
    "# 3. Is there a way to detect and remove the sleeve?\n"
   ]
  }
 ],
 "metadata": {
  "kernelspec": {
   "display_name": "Python 3",
   "language": "python",
   "name": "python3"
  },
  "language_info": {
   "codemirror_mode": {
    "name": "ipython",
    "version": 3
   },
   "file_extension": ".py",
   "mimetype": "text/x-python",
   "name": "python",
   "nbconvert_exporter": "python",
   "pygments_lexer": "ipython3",
   "version": "3.7.3"
  }
 },
 "nbformat": 4,
 "nbformat_minor": 2
}

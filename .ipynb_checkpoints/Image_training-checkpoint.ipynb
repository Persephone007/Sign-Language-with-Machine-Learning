{
 "cells": [
  {
   "cell_type": "code",
   "execution_count": 42,
   "metadata": {},
   "outputs": [],
   "source": [
    "from keras.preprocessing.image import load_img\n",
    "from keras.preprocessing.image import img_to_array\n",
    "from keras.preprocessing.image import array_to_img\n",
    "import requests\n",
    "from io import BytesIO\n",
    "import io\n",
    "import csv\n",
    "from urllib.request import urlopen\n",
    "from bs4 import BeautifulSoup\n",
    "import pandas as pd\n",
    "import numpy as np"
   ]
  },
  {
   "cell_type": "code",
   "execution_count": 43,
   "metadata": {},
   "outputs": [
    {
     "data": {
      "text/html": [
       "<div>\n",
       "<style scoped>\n",
       "    .dataframe tbody tr th:only-of-type {\n",
       "        vertical-align: middle;\n",
       "    }\n",
       "\n",
       "    .dataframe tbody tr th {\n",
       "        vertical-align: top;\n",
       "    }\n",
       "\n",
       "    .dataframe thead th {\n",
       "        text-align: right;\n",
       "    }\n",
       "</style>\n",
       "<table border=\"1\" class=\"dataframe\">\n",
       "  <thead>\n",
       "    <tr style=\"text-align: right;\">\n",
       "      <th></th>\n",
       "      <th>Unnamed: 0</th>\n",
       "      <th>Location</th>\n",
       "      <th>Identifier</th>\n",
       "    </tr>\n",
       "  </thead>\n",
       "  <tbody>\n",
       "    <tr>\n",
       "      <th>0</th>\n",
       "      <td>1</td>\n",
       "      <td>https://sathyabucket1.s3.us-east-2.amazonaws.c...</td>\n",
       "      <td>A</td>\n",
       "    </tr>\n",
       "    <tr>\n",
       "      <th>1</th>\n",
       "      <td>2</td>\n",
       "      <td>https://sathyabucket1.s3.us-east-2.amazonaws.c...</td>\n",
       "      <td>A</td>\n",
       "    </tr>\n",
       "    <tr>\n",
       "      <th>2</th>\n",
       "      <td>3</td>\n",
       "      <td>https://sathyabucket1.s3.us-east-2.amazonaws.c...</td>\n",
       "      <td>A</td>\n",
       "    </tr>\n",
       "    <tr>\n",
       "      <th>3</th>\n",
       "      <td>4</td>\n",
       "      <td>https://sathyabucket1.s3.us-east-2.amazonaws.c...</td>\n",
       "      <td>A</td>\n",
       "    </tr>\n",
       "    <tr>\n",
       "      <th>4</th>\n",
       "      <td>5</td>\n",
       "      <td>https://sathyabucket1.s3.us-east-2.amazonaws.c...</td>\n",
       "      <td>A</td>\n",
       "    </tr>\n",
       "  </tbody>\n",
       "</table>\n",
       "</div>"
      ],
      "text/plain": [
       "   Unnamed: 0                                           Location Identifier\n",
       "0           1  https://sathyabucket1.s3.us-east-2.amazonaws.c...          A\n",
       "1           2  https://sathyabucket1.s3.us-east-2.amazonaws.c...          A\n",
       "2           3  https://sathyabucket1.s3.us-east-2.amazonaws.c...          A\n",
       "3           4  https://sathyabucket1.s3.us-east-2.amazonaws.c...          A\n",
       "4           5  https://sathyabucket1.s3.us-east-2.amazonaws.c...          A"
      ]
     },
     "execution_count": 43,
     "metadata": {},
     "output_type": "execute_result"
    }
   ],
   "source": [
    "df = pd.read_csv('aws_data.csv')\n",
    "df.head()"
   ]
  },
  {
   "cell_type": "code",
   "execution_count": 44,
   "metadata": {
    "scrolled": true
   },
   "outputs": [],
   "source": [
    "def fetch_input(url):\n",
    "    response = requests.get(url)\n",
    "    img = load_img(BytesIO(response.content), target_size = (30,30),color_mode = \"grayscale\")\n",
    "    return img_to_array(img)\n",
    "   #return img"
   ]
  },
  {
   "cell_type": "code",
   "execution_count": 40,
   "metadata": {},
   "outputs": [
    {
     "data": {
      "text/plain": [
       "array([[[212., 205., 187.],\n",
       "        [216., 203., 187.],\n",
       "        [214., 201., 185.],\n",
       "        ...,\n",
       "        [216., 203., 187.],\n",
       "        [211., 198., 182.],\n",
       "        [214., 201., 185.]],\n",
       "\n",
       "       [[216., 203., 187.],\n",
       "        [213., 201., 185.],\n",
       "        [219., 206., 190.],\n",
       "        ...,\n",
       "        [214., 201., 185.],\n",
       "        [214., 201., 185.],\n",
       "        [216., 203., 187.]],\n",
       "\n",
       "       [[214., 201., 185.],\n",
       "        [216., 203., 187.],\n",
       "        [215., 202., 185.],\n",
       "        ...,\n",
       "        [212., 200., 184.],\n",
       "        [211., 198., 182.],\n",
       "        [214., 201., 185.]],\n",
       "\n",
       "       ...,\n",
       "\n",
       "       [[205., 193., 177.],\n",
       "        [209., 198., 180.],\n",
       "        [210., 197., 180.],\n",
       "        ...,\n",
       "        [ 45.,  55.,  67.],\n",
       "        [ 47.,  57.,  69.],\n",
       "        [ 44.,  62.,  72.]],\n",
       "\n",
       "       [[204., 198., 174.],\n",
       "        [209., 197., 181.],\n",
       "        [209., 196., 179.],\n",
       "        ...,\n",
       "        [ 42.,  60.,  74.],\n",
       "        [ 46.,  60.,  71.],\n",
       "        [ 48.,  62.,  73.]],\n",
       "\n",
       "       [[210., 197., 180.],\n",
       "        [210., 198., 176.],\n",
       "        [211., 197., 186.],\n",
       "        ...,\n",
       "        [ 43.,  56.,  73.],\n",
       "        [ 52.,  66.,  77.],\n",
       "        [ 44.,  64.,  73.]]], dtype=float32)"
      ]
     },
     "execution_count": 40,
     "metadata": {},
     "output_type": "execute_result"
    }
   ],
   "source": [
    "links = []\n",
    "for index, row in df.iterrows():\n",
    "    arr = fetch_input(row['Location'])\n",
    "    links.append(arr)\n",
    "    #print(links)"
   ]
  },
  {
   "cell_type": "code",
   "execution_count": null,
   "metadata": {},
   "outputs": [],
   "source": []
  },
  {
   "cell_type": "code",
   "execution_count": null,
   "metadata": {},
   "outputs": [],
   "source": []
  }
 ],
 "metadata": {
  "kernelspec": {
   "display_name": "Python 3",
   "language": "python",
   "name": "python3"
  },
  "language_info": {
   "codemirror_mode": {
    "name": "ipython",
    "version": 3
   },
   "file_extension": ".py",
   "mimetype": "text/x-python",
   "name": "python",
   "nbconvert_exporter": "python",
   "pygments_lexer": "ipython3",
   "version": "3.7.3"
  }
 },
 "nbformat": 4,
 "nbformat_minor": 2
}
